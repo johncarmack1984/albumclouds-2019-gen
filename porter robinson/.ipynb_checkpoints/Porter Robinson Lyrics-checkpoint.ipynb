{
 "cells": [
  {
   "cell_type": "markdown",
   "metadata": {},
   "source": [
    "## Import Packages"
   ]
  },
  {
   "cell_type": "code",
   "execution_count": null,
   "metadata": {},
   "outputs": [],
   "source": [
    "import pandas as pd"
   ]
  },
  {
   "cell_type": "code",
   "execution_count": null,
   "metadata": {},
   "outputs": [],
   "source": [
    "from textblob import TextBlob"
   ]
  },
  {
   "cell_type": "code",
   "execution_count": null,
   "metadata": {},
   "outputs": [],
   "source": [
    "import matplotlib.pyplot as plt\n",
    "import seaborn as sns\n",
    "%matplotlib inline"
   ]
  },
  {
   "cell_type": "code",
   "execution_count": null,
   "metadata": {},
   "outputs": [],
   "source": [
    "# to match style with the Udemy videos\n",
    "sns.set()\n",
    "import matplotlib\n",
    "matplotlib.rcParams[\"patch.force_edgecolor\"] = True"
   ]
  },
  {
   "cell_type": "code",
   "execution_count": null,
   "metadata": {},
   "outputs": [],
   "source": [
    "from wordcloud import WordCloud, STOPWORDS, ImageColorGenerator\n",
    "import numpy as np\n",
    "from PIL import Image"
   ]
  },
  {
   "cell_type": "markdown",
   "metadata": {},
   "source": [
    "## Define Classes & Functions"
   ]
  },
  {
   "cell_type": "code",
   "execution_count": null,
   "metadata": {},
   "outputs": [],
   "source": [
    "class Album(object):\n",
    "    name = ''\n",
    "    tracks = pd.DataFrame()\n",
    "    info = pd.DataFrame()"
   ]
  },
  {
   "cell_type": "code",
   "execution_count": null,
   "metadata": {},
   "outputs": [],
   "source": [
    "def sentiment_column_tracks(df):\n",
    "    for index, row in df.iterrows():\n",
    "        lyrics = str(row['lyrics'])\n",
    "        analysis = TextBlob(lyrics)\n",
    "        df.loc[index,'num_words'] = len(lyrics.split())\n",
    "        df.loc[index,'polarity'] = analysis.sentiment.polarity\n",
    "        df.loc[index,'subjectivity'] = analysis.sentiment.subjectivity\n",
    "    return df"
   ]
  },
  {
   "cell_type": "code",
   "execution_count": null,
   "metadata": {},
   "outputs": [],
   "source": [
    "def sentiment_column_album_plus_lyrics(info_df,track_df):\n",
    "    lyrics = []\n",
    "    for index, row in track_df.iterrows():\n",
    "        lyrics.append(str(row['lyrics'])) \n",
    "    lyrics = ' '.join(lyrics)\n",
    "    analysis = TextBlob(lyrics)\n",
    "    info_df['num_words'] = len(lyrics.split())\n",
    "    info_df['polarity'] = analysis.sentiment.polarity\n",
    "    info_df['subjectivity'] = analysis.sentiment.subjectivity\n",
    "    return info_df, lyrics"
   ]
  },
  {
   "cell_type": "code",
   "execution_count": null,
   "metadata": {},
   "outputs": [],
   "source": [
    "def build_album(filename=''):\n",
    "    album = Album()\n",
    "    album.tracks = pd.read_excel(filename)\n",
    "    album.tracks = sentiment_column_tracks(album.tracks)\n",
    "    album.info = pd.read_excel(filename,sheet_name=1)\n",
    "    album.info, album.lyrics = sentiment_column_album_plus_lyrics(album.info,album.tracks)\n",
    "    album.name = album.info.loc[0,'album_name']\n",
    "    return album"
   ]
  },
  {
   "cell_type": "code",
   "execution_count": null,
   "metadata": {},
   "outputs": [],
   "source": [
    "def merge_albums(albums=[]):\n",
    "    all_albums = albums[0]\n",
    "    for index, album in enumerate(albums[1:]):\n",
    "        all_albums = pd.merge(all_albums,album,how='outer')\n",
    "    return all_albums"
   ]
  },
  {
   "cell_type": "markdown",
   "metadata": {},
   "source": [
    "## Build Objects"
   ]
  },
  {
   "cell_type": "code",
   "execution_count": null,
   "metadata": {},
   "outputs": [],
   "source": [
    "worlds = build_album('worlds-album-info.xlsx')"
   ]
  },
  {
   "cell_type": "code",
   "execution_count": null,
   "metadata": {},
   "outputs": [],
   "source": [
    "all_tracks = merge_albums([worlds.tracks])\n",
    "all_tracks = all_tracks.reset_index().drop('track',axis=1).rename(columns={'index':'track'})\n",
    "all_tracks['track'] += 1\n",
    "#all_tracks"
   ]
  },
  {
   "cell_type": "code",
   "execution_count": null,
   "metadata": {},
   "outputs": [],
   "source": [
    "all_lyrics = [worlds.lyrics]\n",
    "all_lyrics = ' '.join(all_lyrics)"
   ]
  },
  {
   "cell_type": "code",
   "execution_count": null,
   "metadata": {},
   "outputs": [],
   "source": [
    "all_albums = merge_albums([worlds.info])\n",
    "#all_albums"
   ]
  },
  {
   "cell_type": "code",
   "execution_count": null,
   "metadata": {},
   "outputs": [],
   "source": [
    "#fig, ax = plt.subplots(1,14,sharex='col',sharey='row')"
   ]
  },
  {
   "cell_type": "markdown",
   "metadata": {},
   "source": [
    "## Present Findings"
   ]
  },
  {
   "cell_type": "code",
   "execution_count": null,
   "metadata": {},
   "outputs": [],
   "source": [
    "sns.lmplot(x='track',y='polarity',data=brace.tracks)#,size=3,aspect=4"
   ]
  },
  {
   "cell_type": "code",
   "execution_count": null,
   "metadata": {},
   "outputs": [],
   "source": [
    "sns.lmplot(x='track',y='polarity',data=all_tracks.reset_index(),size=3,aspect=4)"
   ]
  },
  {
   "cell_type": "code",
   "execution_count": null,
   "metadata": {
    "scrolled": true
   },
   "outputs": [],
   "source": [
    "sns.lmplot(x='index',y='polarity',data=all_albums.reset_index(),size=3,aspect=4)"
   ]
  },
  {
   "cell_type": "code",
   "execution_count": null,
   "metadata": {},
   "outputs": [],
   "source": []
  },
  {
   "cell_type": "code",
   "execution_count": null,
   "metadata": {},
   "outputs": [],
   "source": []
  },
  {
   "cell_type": "code",
   "execution_count": null,
   "metadata": {},
   "outputs": [],
   "source": []
  }
 ],
 "metadata": {
  "kernelspec": {
   "display_name": "Python 3",
   "language": "python",
   "name": "python3"
  },
  "language_info": {
   "codemirror_mode": {
    "name": "ipython",
    "version": 3
   },
   "file_extension": ".py",
   "mimetype": "text/x-python",
   "name": "python",
   "nbconvert_exporter": "python",
   "pygments_lexer": "ipython3",
   "version": "3.6.4"
  }
 },
 "nbformat": 4,
 "nbformat_minor": 2
}
