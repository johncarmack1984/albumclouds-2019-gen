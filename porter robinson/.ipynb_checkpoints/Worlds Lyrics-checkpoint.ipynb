{
 "cells": [
  {
   "cell_type": "code",
   "execution_count": null,
   "metadata": {},
   "outputs": [],
   "source": [
    "import codecs"
   ]
  },
  {
   "cell_type": "code",
   "execution_count": null,
   "metadata": {},
   "outputs": [],
   "source": [
    "import numpy as np\n",
    "from PIL import Image"
   ]
  },
  {
   "cell_type": "code",
   "execution_count": null,
   "metadata": {},
   "outputs": [],
   "source": [
    "from wordcloud import WordCloud, STOPWORDS, ImageColorGenerator\n",
    "import matplotlib.pyplot as plt"
   ]
  },
  {
   "cell_type": "code",
   "execution_count": null,
   "metadata": {},
   "outputs": [],
   "source": [
    "from textblob import TextBlob"
   ]
  },
  {
   "cell_type": "code",
   "execution_count": null,
   "metadata": {},
   "outputs": [],
   "source": [
    "f = codecs.open(\"./worlds-lyrics.txt\", 'r')"
   ]
  },
  {
   "cell_type": "code",
   "execution_count": null,
   "metadata": {},
   "outputs": [],
   "source": [
    "text = f.read()"
   ]
  },
  {
   "cell_type": "code",
   "execution_count": null,
   "metadata": {},
   "outputs": [],
   "source": [
    "clean_text = text\n",
    "#.replace('um','').replace('uh','')\n",
    "#.lower().replace('god','God').replace(\n",
    "#    'combat chuck','Combat Chuck').replace('america','America')"
   ]
  },
  {
   "cell_type": "code",
   "execution_count": null,
   "metadata": {},
   "outputs": [],
   "source": [
    "album_coloring = np.array(Image.open('worlds-cover.png'))\n",
    "image_colors = ImageColorGenerator(album_coloring)\n",
    "wordcloud = WordCloud(\n",
    "    background_color=None, #\"#00adef\",\n",
    "    mode=\"RGBA\",\n",
    "    width=2560,\n",
    "    height=2560,\n",
    "    mask=album_coloring,\n",
    "    font_path='./Montserrat-SemiBold.ttf',\n",
    "    collocations=False,\n",
    "    normalize_plurals=False,\n",
    "    prefer_horizontal=0.9999,\n",
    "    stopwords=STOPWORDS).generate(clean_text).recolor(color_func=image_colors)\n",
    "wordcloud.to_file('worlds-wordcloud.tiff')\n",
    "\n",
    "plt.figure(figsize=(16,16))\n",
    "plt.imshow(wordcloud, interpolation='bilinear')\n",
    "plt.axis(\"off\")\n",
    "#plt.figure()"
   ]
  },
  {
   "cell_type": "code",
   "execution_count": null,
   "metadata": {},
   "outputs": [],
   "source": [
    "analysis = TextBlob(clean_text)\n",
    "print ('{} words'.format(len(analysis.words)))\n",
    "print ('')\n",
    "print ('polarity: {}'.format(analysis.sentiment.polarity))\n",
    "print ('subjectivity: {}'.format(analysis.sentiment.subjectivity))"
   ]
  },
  {
   "cell_type": "code",
   "execution_count": null,
   "metadata": {},
   "outputs": [],
   "source": []
  }
 ],
 "metadata": {
  "kernelspec": {
   "display_name": "Python 3",
   "language": "python",
   "name": "python3"
  },
  "language_info": {
   "codemirror_mode": {
    "name": "ipython",
    "version": 3
   },
   "file_extension": ".py",
   "mimetype": "text/x-python",
   "name": "python",
   "nbconvert_exporter": "python",
   "pygments_lexer": "ipython3",
   "version": "3.6.4"
  }
 },
 "nbformat": 4,
 "nbformat_minor": 2
}
